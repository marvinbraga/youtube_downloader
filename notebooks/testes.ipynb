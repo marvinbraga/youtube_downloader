{
 "cells": [
  {
   "metadata": {
    "ExecuteTime": {
     "end_time": "2024-11-26T16:34:59.372367Z",
     "start_time": "2024-11-26T16:34:59.355735Z"
    }
   },
   "cell_type": "code",
   "source": [
    "from pathlib import Path\n",
    "\n",
    "url = \"https://www.youtube.com/watch?v=2yTx6Fgyztg\"\n",
    "path = Path(\"res/\")\n",
    "path.mkdir(parents=True, exist_ok=True)"
   ],
   "id": "6a3d231ab62885a2",
   "outputs": [],
   "execution_count": 36
  },
  {
   "metadata": {
    "ExecuteTime": {
     "end_time": "2024-11-26T16:35:05.783394Z",
     "start_time": "2024-11-26T16:35:05.769848Z"
    }
   },
   "cell_type": "code",
   "source": [
    "def progress_hook(d):\n",
    "    if d['status'] == 'downloading':\n",
    "        # Calcula o progresso\n",
    "        total_bytes = d.get('total_bytes')\n",
    "        downloaded_bytes = d.get('downloaded_bytes', 0)\n",
    "\n",
    "        if total_bytes:\n",
    "            progress = (downloaded_bytes / total_bytes) * 100\n",
    "            speed = d.get('speed', 0)\n",
    "            if speed:\n",
    "                speed_mb = speed / 1024 / 1024  # Converter para MB/s\n",
    "                print(\n",
    "                    f\"\\rBaixando: {progress:.1f}% concluído \"\n",
    "                    f\"({speed_mb:.1f} MB/s)\"\n",
    "                )\n",
    "            else:\n",
    "                print(f\"\\rBaixando: {progress:.1f}% concluído\")\n",
    "\n",
    "    elif d['status'] == 'finished':\n",
    "        print(\"\\nDownload concluído! Convertendo...\")"
   ],
   "id": "2ad99c05e2ad507e",
   "outputs": [],
   "execution_count": 37
  },
  {
   "metadata": {
    "ExecuteTime": {
     "end_time": "2024-11-26T16:35:08.312071Z",
     "start_time": "2024-11-26T16:35:08.297787Z"
    }
   },
   "cell_type": "code",
   "source": [
    "ydl_opts = {\n",
    "    'format': 'best',  # Melhor qualidade disponível\n",
    "    'progress_hooks': [progress_hook],\n",
    "    'outtmpl': '%(title)s.%(ext)s',\n",
    "    'quiet': False,\n",
    "    'no_warnings': False,\n",
    "    'ignoreerrors': False,\n",
    "}"
   ],
   "id": "64637360c93ada86",
   "outputs": [],
   "execution_count": 38
  },
  {
   "metadata": {
    "ExecuteTime": {
     "end_time": "2024-11-26T16:35:11.255126Z",
     "start_time": "2024-11-26T16:35:11.239708Z"
    }
   },
   "cell_type": "code",
   "source": [
    "import os\n",
    "\n",
    "ydl_opts['outtmpl'] = os.path.join(path, '%(title)s.%(ext)s')"
   ],
   "id": "d5b4112b5f8bb94e",
   "outputs": [],
   "execution_count": 39
  },
  {
   "metadata": {
    "ExecuteTime": {
     "end_time": "2024-11-26T16:36:05.833648Z",
     "start_time": "2024-11-26T16:35:50.901805Z"
    }
   },
   "cell_type": "code",
   "source": [
    "import yt_dlp\n",
    "\n",
    "with yt_dlp.YoutubeDL(ydl_opts) as ydl:\n",
    "    # Primeiro, obter informações do vídeo\n",
    "    info = ydl.extract_info(url, download=False)\n",
    "\n",
    "    # Mostrar informações do vídeo\n",
    "    print(\"\\nInformações do vídeo:\")\n",
    "    print(f\"Título: {info.get('title')}\")\n",
    "    print(f\"Duração: {info.get('duration')} segundos\")\n",
    "    print(f\"Views: {info.get('view_count'):,}\")\n",
    "    print(f\"Canal: {info.get('channel')}\")\n",
    "\n",
    "    # Confirmar com o usuário\n",
    "    confirm = input(\"\\nDeseja prosseguir com o download? (s/n): \")\n",
    "    if confirm.lower() != 's':\n",
    "        print(\"Download cancelado pelo usuário.\")\n",
    "    else:\n",
    "        # Realizar o download\n",
    "        print(\"\\nIniciando download...\")\n",
    "        ydl.download([url])"
   ],
   "id": "1ed8e5c1f09ad626",
   "outputs": [
    {
     "name": "stdout",
     "output_type": "stream",
     "text": [
      "[youtube] Extracting URL: https://www.youtube.com/watch?v=2yTx6Fgyztg\n",
      "[youtube] 2yTx6Fgyztg: Downloading webpage\n",
      "[youtube] 2yTx6Fgyztg: Downloading ios player API JSON\n",
      "[youtube] 2yTx6Fgyztg: Downloading mweb player API JSON\n",
      "[youtube] 2yTx6Fgyztg: Downloading player 89dfc5b3\n",
      "[youtube] 2yTx6Fgyztg: Downloading m3u8 information\n",
      "\n",
      "Informações do vídeo:\n",
      "Título: How to Install Plotly in Pycharm | On Windows / Mac OS [2024]\n",
      "Duração: 195 segundos\n",
      "Views: 179\n",
      "Canal: Skilled Engg\n",
      "\n",
      "Iniciando download...\n",
      "[youtube] Extracting URL: https://www.youtube.com/watch?v=2yTx6Fgyztg\n",
      "[youtube] 2yTx6Fgyztg: Downloading webpage\n",
      "[youtube] 2yTx6Fgyztg: Downloading ios player API JSON\n",
      "[youtube] 2yTx6Fgyztg: Downloading mweb player API JSON\n",
      "[youtube] 2yTx6Fgyztg: Downloading m3u8 information\n",
      "[info] 2yTx6Fgyztg: Downloading 1 format(s): 18\n",
      "[download] Destination: res\\How to Install Plotly in Pycharm ｜ On Windows ⧸ Mac OS [2024].mp4\n",
      "Baixando: 0.0% concluído (0.2 MB/s) 237.93KiB/s ETA 00:13\n",
      "Baixando: 0.1% concluído (0.6 MB/s) 576.51KiB/s ETA 00:05\n",
      "Baixando: 0.2% concluído (1.3 MB/s)   1.31MiB/s ETA 00:02\n",
      "Baixando: 0.5% concluído (2.4 MB/s)   2.36MiB/s ETA 00:01\n",
      "Baixando: 0.9% concluído (2.1 MB/s)   2.09MiB/s ETA 00:01\n",
      "Baixando: 1.9% concluído (0.8 MB/s) 849.91KiB/s ETA 00:03\n",
      "Baixando: 3.9% concluído (0.9 MB/s) 905.09KiB/s ETA 00:03\n",
      "Baixando: 7.8% concluído (1.2 MB/s)   1.21MiB/s ETA 00:02\n",
      "Baixando: 15.7% concluído (1.8 MB/s)  1.83MiB/s ETA 00:01\n",
      "Baixando: 31.3% concluído (2.8 MB/s)  2.83MiB/s ETA 00:00\n",
      "Baixando: 62.7% concluído (4.5 MB/s)  4.54MiB/s ETA 00:00\n",
      "Baixando: 100.0% concluído (3.1 MB/s) 3.11MiB/s ETA 00:00\n",
      "[download] 100% of    3.19MiB in 00:00:01 at 1.60MiB/s   \n",
      "Download concluído! Convertendo...\n",
      "\n"
     ]
    }
   ],
   "execution_count": 40
  },
  {
   "metadata": {},
   "cell_type": "code",
   "outputs": [],
   "execution_count": null,
   "source": "",
   "id": "9eebf20d2878d7f2"
  }
 ],
 "metadata": {
  "kernelspec": {
   "display_name": "Python 3",
   "language": "python",
   "name": "python3"
  },
  "language_info": {
   "codemirror_mode": {
    "name": "ipython",
    "version": 2
   },
   "file_extension": ".py",
   "mimetype": "text/x-python",
   "name": "python",
   "nbconvert_exporter": "python",
   "pygments_lexer": "ipython2",
   "version": "2.7.6"
  }
 },
 "nbformat": 4,
 "nbformat_minor": 5
}
